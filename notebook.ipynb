{
 "cells": [
  {
   "cell_type": "markdown",
   "metadata": {},
   "source": [
    "# Genetic programming: symbolic regresion"
   ]
  },
  {
   "cell_type": "code",
   "execution_count": 3,
   "metadata": {},
   "outputs": [],
   "source": [
    "%load_ext autoreload\n",
    "%autoreload 2\n",
    "import gp\n",
    "import plotting as pl\n",
    "import numpy as np\n",
    "import matplotlib.pyplot as plt\n",
    "import matplotlib.ticker as ticker\n",
    "from itertools import product\n",
    "from random import seed\n",
    "from math import sin, cos, pi, exp, sqrt, log\n",
    "import time"
   ]
  },
  {
   "cell_type": "code",
   "execution_count": 4,
   "metadata": {},
   "outputs": [],
   "source": [
    "# set of problems\n",
    "problems = ({'func' : lambda x: exp(abs(x))*sin(x), 'interval' : np.array(list(product(np.arange(-3,3.1,0.1)))), 'name' : 'e^|x|*sin(x)'},)\n",
    "def generate_dataset(inputs, func):\n",
    "    outputs = np.zeros_like(inputs[:, 0])\n",
    "    for i, t in enumerate(inputs):\n",
    "        outputs[i] = func(*t)\n",
    "    return np.column_stack([inputs, np.vstack(outputs)])\n"
   ]
  },
  {
   "cell_type": "code",
   "execution_count": 5,
   "metadata": {},
   "outputs": [],
   "source": [
    "# gp parameters\n",
    "def add(x, y): return x + y\n",
    "def sub(x, y): return x - y\n",
    "def mul(x, y): return x * y\n",
    "def safe_div(x, y): return x / y if y != 0 else x\n",
    "def safe_log(x): return log(max(1e-10, abs(x)))\n",
    "def safe_exp(x): return exp(min(30, x))\n",
    "\n",
    "BINARY_FUNCTIONS = (add, sub, mul, safe_div)\n",
    "UNARY_FUNCTIONS = (abs, sin, cos, safe_exp, safe_log)\n",
    "FUNC_NAMES = {add : '+', sub : '-', mul : '*', safe_div : '/', sin : 'sin', cos : 'cos', abs : 'abs', safe_exp : 'e^', safe_log : 'log'}\n",
    "INPUTS = ['x']\n",
    "TERMINALS = [-1, 0, 1] + INPUTS\n",
    "\n",
    "\n",
    "gp.Parameters.gp_rules = {\n",
    "    'binary_functions' : BINARY_FUNCTIONS,\n",
    "    'unary_functions' :  UNARY_FUNCTIONS,\n",
    "    'func_names' :       FUNC_NAMES,\n",
    "    'terminals' :        TERMINALS,\n",
    "    'inputs' :           INPUTS,\n",
    "    'pop_size' :         128, # population size\n",
    "    'min_depth' :        2, # minimal initial random tree depth\n",
    "    'max_depth' :        4, # maximal initial random tree depth\n",
    "    'generations' :      np.inf, # maximal number of generations to run evolution\n",
    "    'tournament_size' :  3, # size of tournament for tournament selection\n",
    "    'xo_rate' :          0.5, # crossover rate\n",
    "    'prob_mutation' :    0.1, # per-node mutation probability\n",
    "    'epsilon' :          0.1, # epsilon used to compute hit rate\n",
    "    'evaluations_limit' : 5e5\n",
    "}"
   ]
  },
  {
   "cell_type": "code",
   "execution_count": 6,
   "metadata": {},
   "outputs": [],
   "source": [
    "runs = 5"
   ]
  },
  {
   "cell_type": "markdown",
   "metadata": {},
   "source": [
    "## Using fitness predictor"
   ]
  },
  {
   "cell_type": "code",
   "execution_count": 7,
   "metadata": {
    "scrolled": false
   },
   "outputs": [
    {
     "data": {
      "image/png": "[encoded data removed]",
      "text/plain": [
       "<Figure size 432x288 with 1 Axes>"
      ]
     },
     "metadata": {
      "needs_background": "light"
     },
     "output_type": "display_data"
    },
    {
     "data": {
      "image/png": "[encoded data removed]",
      "text/plain": [
       "<Figure size 432x288 with 1 Axes>"
      ]
     },
     "metadata": {
      "needs_background": "light"
     },
     "output_type": "display_data"
    },
    {
     "name": "stdout",
     "output_type": "stream",
     "text": [
      "execution time: 79.25139093399048\n",
      "best solution had fitness 0.8428718775282993\n"
     ]
    }
   ],
   "source": [
    "# run gp on problems with parameters specified above\n",
    "seed() # set seed here to reproduce same conditions\n",
    "start = time.time()\n",
    "\n",
    "for problem in problems:\n",
    "    d = generate_dataset(problem['interval'], problem['func'])\n",
    "    x = gp.GeneticProgram(d)\n",
    "    fp_manager = gp.SLFitnessPredictorManager(x, d.shape[0])\n",
    "    \n",
    "    x_values = []\n",
    "    used_predictors = []\n",
    "    fitnesses = []\n",
    "    best_run_fitness = np.inf\n",
    "    \n",
    "    for i in range(runs):\n",
    "        res = x.run_evolution(fp_manager=fp_manager, verbose=False)\n",
    "        best_run_fitness = min(res['best_of_run_exact_fitness'], best_run_fitness)\n",
    "            \n",
    "        x_values.append(res['test_cases_evaluations'])\n",
    "        used_predictors.append(res['used_predictors'])\n",
    "        fitnesses.append(res['best_of_run_fitnesses'])\n",
    "        \n",
    "    # select widest range\n",
    "    x_values = x_values[np.argmax([len(v) for v in x_values])]\n",
    "    \n",
    "    # fill shorter runs with last values (in case some run converged or something...)\n",
    "    for i in range(len(fitnesses)):\n",
    "        while len(used_predictors[i]) < len(x_values): used_predictors[i] = np.append(used_predictors[i], used_predictors[-1])\n",
    "        while len(fitnesses[i]) < len(x_values): fitnesses[i] = np.append(fitnesses[i], fitnesses[i][-1])\n",
    "    used_predictors = np.concatenate(used_predictors).flatten()\n",
    "    used_predictors = d[:, 0][used_predictors]\n",
    "    fitnesses = np.vstack(fitnesses)\n",
    "    \n",
    "    #plot histogram\n",
    "    vals, bins = np.histogram(used_predictors.flatten(), bins=d.shape[0])\n",
    "    # make bins same size as graph of the function\n",
    "    vals = vals * ((max(d[:, 1]) - min(d[:, 1])) / max(vals))\n",
    "    plt.bar(bins[:-1], vals, bottom=min(d[:, 1]), align='edge', alpha=0.75, width=(d[-1, 0]-d[0, 0]) / len(vals))\n",
    "    plt.plot(d[:, 0], d[:, 1], label='target function')\n",
    "    plt.title('histogram of used test cases')\n",
    "    plt.legend()\n",
    "    plt.show()\n",
    "    \n",
    "    #plot fitness\n",
    "    avg_fitnesses = np.mean(fitnesses, axis=0)\n",
    "    errors = np.std(fitnesses, axis=0)\n",
    "    idxs = np.linspace(0, len(x_values)-1, 10, dtype=np.int32)\n",
    "    plt.errorbar(x_values[idxs], avg_fitnesses[idxs], yerr=errors[idxs], capsize=7)\n",
    "    plt.title('exact fitness of best solution averaged over runs')\n",
    "    plt.show()\n",
    "          \n",
    "end = time.time()\n",
    "print(f'execution time: {end - start}')\n",
    "print(f'best solution had fitness {best_run_fitness}')"
   ]
  },
  {
   "cell_type": "markdown",
   "metadata": {},
   "source": [
    "## Using all test cases"
   ]
  },
  {
   "cell_type": "code",
   "execution_count": 8,
   "metadata": {},
   "outputs": [
    {
     "data": {
      "image/png": "[encoded data removed]",
      "text/plain": [
       "<Figure size 432x288 with 1 Axes>"
      ]
     },
     "metadata": {
      "needs_background": "light"
     },
     "output_type": "display_data"
    },
    {
     "name": "stdout",
     "output_type": "stream",
     "text": [
      "execution time: 73.33042669296265\n",
      "best solution had fitness 0.8199507197552032\n"
     ]
    }
   ],
   "source": [
    "start = time.time()\n",
    "\n",
    "for problem in problems:\n",
    "    d = generate_dataset(problem['interval'], problem['func'])\n",
    "    x = gp.GeneticProgram(d)\n",
    "    fp_manager = gp.SLFitnessPredictorManager(x, d.shape[0])\n",
    "    \n",
    "    x_values = []\n",
    "    fitnesses = []\n",
    "    best_run_fitness = np.inf\n",
    "    \n",
    "    for i in range(runs):\n",
    "        res = x.run_evolution(fp_manager=fp_manager, verbose=False)\n",
    "        x_values.append(res['test_cases_evaluations'])\n",
    "        fitnesses.append(res['best_of_run_fitnesses'])\n",
    "        best_run_fitness = min(res['best_of_run_exact_fitness'], best_run_fitness)\n",
    "        \n",
    "    # select widest range\n",
    "    x_values = x_values[np.argmax([len(v) for v in x_values])]\n",
    "    \n",
    "    # fill shorter runs with last values (in case some run converged or something...)\n",
    "    for i in range(len(fitnesses)):\n",
    "        while len(fitnesses[i]) < len(x_values): fitnesses[i] = np.append(fitnesses[i], fitnesses[i][-1])\n",
    "    \n",
    "    fitnesses = np.vstack(fitnesses)\n",
    "    \n",
    "    #plot fitness\n",
    "    avg_fitnesses = np.mean(fitnesses, axis=0)\n",
    "    errors = np.std(fitnesses, axis=0)\n",
    "    idxs = np.linspace(0, len(x_values)-1, 10, dtype=np.int32)\n",
    "    plt.errorbar(x_values[idxs], avg_fitnesses[idxs], yerr=errors[idxs], capsize=7)\n",
    "    plt.title('exact fitness of best solution averaged over runs')\n",
    "    plt.show()\n",
    "          \n",
    "end = time.time()\n",
    "print(f'execution time: {end - start}')\n",
    "print(f'best solution had fitness {best_run_fitness}')"
   ]
  },
  {
   "cell_type": "code",
   "execution_count": null,
   "metadata": {},
   "outputs": [],
   "source": []
  },
  {
   "cell_type": "code",
   "execution_count": null,
   "metadata": {},
   "outputs": [],
   "source": []
  }
 ],
 "metadata": {
  "kernelspec": {
   "display_name": "Python 3",
   "language": "python",
   "name": "python3"
  },
  "language_info": {
   "codemirror_mode": {
    "name": "ipython",
    "version": 3
   },
   "file_extension": ".py",
   "mimetype": "text/x-python",
   "name": "python",
   "nbconvert_exporter": "python",
   "pygments_lexer": "ipython3",
   "version": "3.7.5rc1"
  }
 },
 "nbformat": 4,
 "nbformat_minor": 2
}
